{
  "nbformat": 4,
  "nbformat_minor": 0,
  "metadata": {
    "colab": {
      "provenance": [],
      "authorship_tag": "ABX9TyOsVGaUtckiyKxQo7oCVnaI",
      "include_colab_link": true
    },
    "kernelspec": {
      "name": "python3",
      "display_name": "Python 3"
    },
    "language_info": {
      "name": "python"
    }
  },
  "cells": [
    {
      "cell_type": "markdown",
      "metadata": {
        "id": "view-in-github",
        "colab_type": "text"
      },
      "source": [
        "<a href=\"https://colab.research.google.com/github/Gk1694/Association-Rule-Learning/blob/main/Password_picker.ipynb\" target=\"_parent\"><img src=\"https://colab.research.google.com/assets/colab-badge.svg\" alt=\"Open In Colab\"/></a>"
      ]
    },
    {
      "cell_type": "code",
      "execution_count": 11,
      "metadata": {
        "id": "3AbyZ7_r4GP0"
      },
      "outputs": [],
      "source": [
        "import random \n",
        "import string\n",
        "from time import time as time_now"
      ]
    },
    {
      "cell_type": "code",
      "source": [
        "now = time_now\n",
        "print(now)\n",
        "adjectives = ['sleepy','orange','red','wailker','Smoker','Dancer','Leader','fat','wet','Proud','typer','brave']\n",
        "nons = ['DRagon','Elephant','ball','hammer','dinosour','pen','lion','Tiger','snake','Panda','duck']\n",
        "print(\"Welcome to password picker!\")\n",
        "while True:\n",
        "  adjective = random.choice(adjectives)\n",
        "  noun = random.choice(nons)\n",
        "  number = random.randrange(0,100)\n",
        "  spical_char = random.choice(string.punctuation)\n",
        "  password = adjective+noun+str(number)+spical_char\n",
        "  print('Your password is: %s' %password)\n",
        "  response = input(\"Would you like another password ? Type y or n \")\n",
        "  if response == 'n':\n",
        "    break"
      ],
      "metadata": {
        "colab": {
          "base_uri": "https://localhost:8080/"
        },
        "id": "rWspfi-Y-Y98",
        "outputId": "e553bf52-55b4-4d98-ecc4-50df54522ee0"
      },
      "execution_count": 13,
      "outputs": [
        {
          "name": "stdout",
          "output_type": "stream",
          "text": [
            "<built-in function time>\n",
            "Welcome to password picker!\n",
            "Your password is: ProudElephant8}\n",
            "Would you like another password ? Type y or n n\n"
          ]
        }
      ]
    }
  ]
}